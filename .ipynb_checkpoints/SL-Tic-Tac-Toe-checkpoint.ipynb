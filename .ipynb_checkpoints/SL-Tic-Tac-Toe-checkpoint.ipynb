{
 "cells": [
  {
   "cell_type": "code",
   "execution_count": null,
   "id": "86443570",
   "metadata": {},
   "outputs": [],
   "source": [
    "'''\n",
    "The board will consist of 3 rows and 3 columns.\n",
    "Each position on the board (9 total) will be either an \"x\", \"o\", or \"-\"\n",
    "Each row has 3 squares, each square has information that can change, and the order matters.\n",
    "Use a list.\n",
    "'''"
   ]
  },
  {
   "cell_type": "code",
   "execution_count": null,
   "id": "eaa25ee8",
   "metadata": {},
   "outputs": [],
   "source": [
    "# ----- STEP 1: Board Creation ----- #"
   ]
  },
  {
   "cell_type": "code",
   "execution_count": null,
   "id": "acb3bfe3",
   "metadata": {},
   "outputs": [],
   "source": [
    "# Modeling a Row\n",
    "\n",
    "row0 = [\"-\",\"-\",\"-\"]"
   ]
  },
  {
   "cell_type": "code",
   "execution_count": null,
   "id": "164b934d",
   "metadata": {},
   "outputs": [],
   "source": [
    "# Modeling the Tic-Tac-Toe board\n",
    "\n",
    "row0 = [\"-\",\"-\",\"-\"]\n",
    "row1 = [\"-\",\"-\",\"-\"]\n",
    "row2 = [\"-\",\"-\",\"-\"]"
   ]
  },
  {
   "cell_type": "code",
   "execution_count": null,
   "id": "1f149b74",
   "metadata": {},
   "outputs": [],
   "source": [
    "# Modeling the board\n",
    "\n",
    "board = [row0,row1,row2]"
   ]
  },
  {
   "cell_type": "code",
   "execution_count": 1,
   "id": "90363db9",
   "metadata": {},
   "outputs": [
    {
     "name": "stdout",
     "output_type": "stream",
     "text": [
      "[['-', '-', '-'], ['-', '-', '-'], ['-', '-', '-']]\n"
     ]
    }
   ],
   "source": [
    "# Modeling the board with a nested list. List has 3 columns w/3 elements in each row, resembling the board.\n",
    "\n",
    "board = [[\"-\", \"-\", \"-\"],\n",
    "         [\"-\", \"-\", \"-\"],\n",
    "         [\"-\", \"-\", \"-\"]]\n",
    "\n",
    "print(board)"
   ]
  },
  {
   "cell_type": "code",
   "execution_count": null,
   "id": "86ba1f61",
   "metadata": {},
   "outputs": [],
   "source": [
    "'''\n",
    "Difficult to play the game properly when the board is output in a single line.\n",
    "Instead, call each index of the nested list in the list to display each row.\n",
    "'''"
   ]
  },
  {
   "cell_type": "code",
   "execution_count": 2,
   "id": "7f20e24d",
   "metadata": {},
   "outputs": [
    {
     "name": "stdout",
     "output_type": "stream",
     "text": [
      "['-', '-', '-']\n",
      "['-', '-', '-']\n",
      "['-', '-', '-']\n"
     ]
    }
   ],
   "source": [
    "board = [[\"-\", \"-\", \"-\"],\n",
    "         [\"-\", \"-\", \"-\"],\n",
    "         [\"-\", \"-\", \"-\"]]\n",
    "\n",
    "print(board[0])\n",
    "print(board[1])\n",
    "print(board[2])"
   ]
  },
  {
   "cell_type": "code",
   "execution_count": null,
   "id": "10a3c145",
   "metadata": {},
   "outputs": [],
   "source": [
    "# ----- STEP 2: User Input ----- #"
   ]
  },
  {
   "cell_type": "code",
   "execution_count": null,
   "id": "de36d8bb",
   "metadata": {},
   "outputs": [],
   "source": [
    "'''\n",
    "Need to prompt the user to enter a value between 1-3 for the column and again (1-3) for the row.\n",
    "We will ask the user for input with numbers 1-3 even though the index is 0-2.\n",
    "'''"
   ]
  },
  {
   "cell_type": "code",
   "execution_count": 3,
   "id": "ce2b145d",
   "metadata": {},
   "outputs": [
    {
     "name": "stdout",
     "output_type": "stream",
     "text": [
      "X player, select a column 1-3: 2\n",
      "X player, select a row 1-3: 2\n",
      "['-', '-', '-']\n",
      "['-', 'X', '-']\n",
      "['-', '-', '-']\n"
     ]
    }
   ],
   "source": [
    "# prompting user for input selection\n",
    "column = int(input(\"X player, select a column 1-3: \"))\n",
    "row = int(input(\"X player, select a row 1-3: \"))\n",
    "\n",
    "# Delete -1 from the input to proprerly select the index\n",
    "column -= 1\n",
    "row -= 1\n",
    "\n",
    "# placing the \"x\" in the row and column identified from the user input\n",
    "board[row][column] = \"X\"\n",
    "print(board[0])\n",
    "print(board[1])\n",
    "print(board[2])"
   ]
  },
  {
   "cell_type": "code",
   "execution_count": 4,
   "id": "0da09926",
   "metadata": {},
   "outputs": [
    {
     "name": "stdout",
     "output_type": "stream",
     "text": [
      "['-', '-', '-']\n",
      "['-', '-', '-']\n",
      "['-', '-', '-']\n",
      "X player, select a column 1-3: 1\n",
      "X player, select a row 1-3: 3\n",
      "['-', '-', '-']\n",
      "['-', '-', '-']\n",
      "['X', '-', '-']\n"
     ]
    }
   ],
   "source": [
    "# ---- Code at this point ----- #\n",
    "board = [[\"-\", \"-\", \"-\"],\n",
    "         [\"-\", \"-\", \"-\"],\n",
    "         [\"-\", \"-\", \"-\"]]\n",
    "\n",
    "print(board[0])\n",
    "print(board[1])\n",
    "print(board[2])\n",
    "\n",
    "column = int(input(\"X player, select a column 1-3: \"))\n",
    "row = int(input(\"X player, select a row 1-3: \"))\n",
    "column -= 1\n",
    "row -= 1\n",
    "\n",
    "board[row][column] = \"X\"\n",
    "print(board[0])\n",
    "print(board[1])\n",
    "print(board[2])"
   ]
  },
  {
   "cell_type": "code",
   "execution_count": null,
   "id": "312a782f",
   "metadata": {},
   "outputs": [],
   "source": [
    "# Prompting player \"o\" for their turn\n",
    "column = int(input(\"X player, select a column 1-3: \"))\n",
    "row = int(input(\"X player, select a row 1-3: \"))\n",
    "column -= 1\n",
    "row -= 1\n",
    "\n",
    "board[row][column] = \"O\"\n",
    "print(board[0])\n",
    "print(board[1])\n",
    "print(board[2])"
   ]
  },
  {
   "cell_type": "code",
   "execution_count": null,
   "id": "f4bbd9fd",
   "metadata": {},
   "outputs": [],
   "source": [
    "# conditional statement to check if the space has been already filled or not\n",
    "if board[row][column] == \"-\":\n",
    "    board[row][column] == \"O\"\n",
    "else:\n",
    "    print(\"Oops, that spot was already taken.\")"
   ]
  },
  {
   "cell_type": "code",
   "execution_count": null,
   "id": "2da0741b",
   "metadata": {},
   "outputs": [],
   "source": [
    "# ----- STEP 3: Wash, Rinse, Repeat ----- #"
   ]
  },
  {
   "cell_type": "code",
   "execution_count": null,
   "id": "1ccefed9",
   "metadata": {},
   "outputs": [],
   "source": [
    "# Program so far #"
   ]
  },
  {
   "cell_type": "code",
   "execution_count": 8,
   "id": "c206d21b",
   "metadata": {},
   "outputs": [
    {
     "name": "stdout",
     "output_type": "stream",
     "text": [
      "['-', '-', '-']\n",
      "['-', '-', '-']\n",
      "['-', '-', '-']\n",
      "X player, select a column 1-3: 2\n",
      "X player, select a row 1-3: 2\n",
      "['-', '-', '-']\n",
      "['-', 'X', '-']\n",
      "['-', '-', '-']\n",
      "O player, select a column 1-3: 1\n",
      "O player, select a row 1-3: 3\n",
      "['-', '-', '-']\n",
      "['-', 'X', '-']\n",
      "['O', '-', '-']\n"
     ]
    }
   ],
   "source": [
    "# the following code creates the board\n",
    "board = [[\"-\", \"-\", \"-\"],\n",
    "         [\"-\", \"-\", \"-\"],\n",
    "         [\"-\", \"-\", \"-\"]]\n",
    "\n",
    "print(board[0])\n",
    "print(board[1])\n",
    "print(board[2])\n",
    "\n",
    "#this is player X's first move\n",
    "column = int(input(\"X player, select a column 1-3: \"))\n",
    "row = int(input(\"X player, select a row 1-3: \"))\n",
    "column -= 1\n",
    "row -= 1\n",
    "\n",
    "board[row][column] = \"X\"\n",
    "print(board[0])\n",
    "print(board[1])\n",
    "print(board[2])\n",
    "\n",
    "#this is player O's first move\n",
    "column = int(input(\"O player, select a column 1-3: \"))\n",
    "row = int(input(\"O player, select a row 1-3: \"))\n",
    "column -= 1\n",
    "row -= 1\n",
    "\n",
    "if board[row][column] == \"-\":\n",
    "    board[row][column] == \"O\"\n",
    "else:\n",
    "    print(\"Oops, that spot was already taken.\")\n",
    "    \n",
    "board[row][column] = \"O\"\n",
    "print(board[0])\n",
    "print(board[1])\n",
    "print(board[2])"
   ]
  },
  {
   "cell_type": "code",
   "execution_count": null,
   "id": "1712f61e",
   "metadata": {},
   "outputs": [
    {
     "name": "stdout",
     "output_type": "stream",
     "text": [
      "['-', '-', '-']\n",
      "['-', '-', '-']\n",
      "['-', '-', '-']\n",
      "X player, select a column 1-3: 1\n",
      "X player, select a row 1-3: 1\n",
      "['X', '-', '-']\n",
      "['-', '-', '-']\n",
      "['-', '-', '-']\n",
      "O player, select a column 1-3: 2\n",
      "O player, select a row 1-3: 1\n",
      "['X', 'O', '-']\n",
      "['-', '-', '-']\n",
      "['-', '-', '-']\n",
      "O player, select a column 1-3: 1\n",
      "O player, select a row 1-3: 2\n",
      "['X', 'O', '-']\n",
      "['X', '-', '-']\n",
      "['-', '-', '-']\n",
      "O player, select a column 1-3: 2\n",
      "O player, select a row 1-3: 2\n",
      "['X', 'O', '-']\n",
      "['X', 'O', '-']\n",
      "['-', '-', '-']\n",
      "O player, select a column 1-3: 1\n",
      "O player, select a row 1-3: 3\n",
      "['X', 'O', '-']\n",
      "['X', 'O', '-']\n",
      "['X', '-', '-']\n"
     ]
    }
   ],
   "source": [
    "# Need to repeat to have 9 total prompts to fill the board\n",
    "\n",
    "# the following code creates the board\n",
    "board = [[\"-\", \"-\", \"-\"],\n",
    "         [\"-\", \"-\", \"-\"],\n",
    "         [\"-\", \"-\", \"-\"]]\n",
    "\n",
    "print(board[0])\n",
    "print(board[1])\n",
    "print(board[2])\n",
    "\n",
    "#this is player X's first move\n",
    "column = int(input(\"X player, select a column 1-3: \"))\n",
    "row = int(input(\"X player, select a row 1-3: \"))\n",
    "column -= 1\n",
    "row -= 1\n",
    "\n",
    "board[row][column] = \"X\"\n",
    "print(board[0])\n",
    "print(board[1])\n",
    "print(board[2])\n",
    "\n",
    "#this is player O's first move\n",
    "column = int(input(\"O player, select a column 1-3: \"))\n",
    "row = int(input(\"O player, select a row 1-3: \"))\n",
    "column -= 1\n",
    "row -= 1\n",
    "\n",
    "if board[row][column] == \"-\":\n",
    "    board[row][column] == \"O\"\n",
    "else:\n",
    "    print(\"Oops, that spot was already taken.\")\n",
    "    \n",
    "board[row][column] = \"O\"\n",
    "print(board[0])\n",
    "print(board[1])\n",
    "print(board[2])\n",
    "\n",
    "#this is player X's second move\n",
    "column = int(input(\"O player, select a column 1-3: \"))\n",
    "row = int(input(\"O player, select a row 1-3: \"))\n",
    "column -= 1\n",
    "row -= 1\n",
    "\n",
    "if board[row][column] == \"-\":\n",
    "    board[row][column] == \"X\"\n",
    "else:\n",
    "    print(\"Oops, that spot was already taken.\")\n",
    "    \n",
    "board[row][column] = \"X\"\n",
    "print(board[0])\n",
    "print(board[1])\n",
    "print(board[2])\n",
    "\n",
    "#this is player O's second move\n",
    "column = int(input(\"O player, select a column 1-3: \"))\n",
    "row = int(input(\"O player, select a row 1-3: \"))\n",
    "column -= 1\n",
    "row -= 1\n",
    "\n",
    "if board[row][column] == \"-\":\n",
    "    board[row][column] == \"O\"\n",
    "else:\n",
    "    print(\"Oops, that spot was already taken.\")\n",
    "    \n",
    "board[row][column] = \"O\"\n",
    "print(board[0])\n",
    "print(board[1])\n",
    "print(board[2])\n",
    "\n",
    "#this is player X's third move\n",
    "column = int(input(\"O player, select a column 1-3: \"))\n",
    "row = int(input(\"O player, select a row 1-3: \"))\n",
    "column -= 1\n",
    "row -= 1\n",
    "\n",
    "if board[row][column] == \"-\":\n",
    "    board[row][column] == \"X\"\n",
    "else:\n",
    "    print(\"Oops, that spot was already taken.\")\n",
    "    \n",
    "board[row][column] = \"X\"\n",
    "print(board[0])\n",
    "print(board[1])\n",
    "print(board[2])\n",
    "\n",
    "#this is player O's third move\n",
    "column = int(input(\"O player, select a column 1-3: \"))\n",
    "row = int(input(\"O player, select a row 1-3: \"))\n",
    "column -= 1\n",
    "row -= 1\n",
    "\n",
    "if board[row][column] == \"-\":\n",
    "    board[row][column] == \"O\"\n",
    "else:\n",
    "    print(\"Oops, that spot was already taken.\")\n",
    "    \n",
    "board[row][column] = \"O\"\n",
    "print(board[0])\n",
    "print(board[1])\n",
    "print(board[2])\n",
    "\n",
    "#this is player X's fourth move\n",
    "column = int(input(\"O player, select a column 1-3: \"))\n",
    "row = int(input(\"O player, select a row 1-3: \"))\n",
    "column -= 1\n",
    "row -= 1\n",
    "\n",
    "if board[row][column] == \"-\":\n",
    "    board[row][column] == \"X\"\n",
    "else:\n",
    "    print(\"Oops, that spot was already taken.\")\n",
    "    \n",
    "board[row][column] = \"X\"\n",
    "print(board[0])\n",
    "print(board[1])\n",
    "print(board[2])\n",
    "\n",
    "#this is player O's fourth move\n",
    "column = int(input(\"O player, select a column 1-3: \"))\n",
    "row = int(input(\"O player, select a row 1-3: \"))\n",
    "column -= 1\n",
    "row -= 1\n",
    "\n",
    "if board[row][column] == \"-\":\n",
    "    board[row][column] == \"O\"\n",
    "else:\n",
    "    print(\"Oops, that spot was already taken.\")\n",
    "    \n",
    "board[row][column] = \"O\"\n",
    "print(board[0])\n",
    "print(board[1])\n",
    "print(board[2])\n",
    "\n",
    "#this is player X's fifth move\n",
    "column = int(input(\"O player, select a column 1-3: \"))\n",
    "row = int(input(\"O player, select a row 1-3: \"))\n",
    "column -= 1\n",
    "row -= 1\n",
    "\n",
    "if board[row][column] == \"-\":\n",
    "    board[row][column] == \"X\"\n",
    "else:\n",
    "    print(\"Oops, that spot was already taken.\")\n",
    "    \n",
    "board[row][column] = \"X\"\n",
    "print(board[0])\n",
    "print(board[1])\n",
    "print(board[2])"
   ]
  },
  {
   "cell_type": "code",
   "execution_count": null,
   "id": "effad22d",
   "metadata": {},
   "outputs": [],
   "source": [
    "'''\n",
    "Program is missing key features like checking if a player has already won,\n",
    "or checking if a input value is in the proper range.\n",
    "'''"
   ]
  }
 ],
 "metadata": {
  "kernelspec": {
   "display_name": "Python 3",
   "language": "python",
   "name": "python3"
  },
  "language_info": {
   "codemirror_mode": {
    "name": "ipython",
    "version": 3
   },
   "file_extension": ".py",
   "mimetype": "text/x-python",
   "name": "python",
   "nbconvert_exporter": "python",
   "pygments_lexer": "ipython3",
   "version": "3.8.8"
  }
 },
 "nbformat": 4,
 "nbformat_minor": 5
}
